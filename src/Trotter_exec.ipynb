{
  "nbformat": 4,
  "nbformat_minor": 0,
  "metadata": {
    "colab": {
      "name": "Trotter_exec.ipynb",
      "provenance": [],
      "collapsed_sections": []
    },
    "kernelspec": {
      "name": "python3",
      "display_name": "Python 3"
    },
    "language_info": {
      "name": "python"
    }
  },
  "cells": [
    {
      "cell_type": "code",
      "execution_count": 11,
      "metadata": {
        "id": "xv0OiGFq-ckP"
      },
      "outputs": [],
      "source": [
        "try:\n",
        "    import qiskit\n",
        "    import qutip\n",
        "    import numpy as np\n",
        "    from qiskit.providers.aer import QasmSimulator\n",
        "    from qiskit.visualization import plot_histogram\n",
        "    from qiskit import QuantumCircuit, transpile, Aer\n",
        "except:\n",
        "    !pip install qutip\n",
        "    !pip install qiskit\n",
        "    !pip install np\n",
        "    import qiskit\n",
        "    import numpy as np\n",
        "    from qiskit.providers.aer import QasmSimulator\n",
        "    from qiskit.visualization import plot_histogram\n",
        "    from qiskit import QuantumCircuit, transpile, Aer\n",
        "    from typing import List"
      ]
    },
    {
      "cell_type": "code",
      "source": [
        "from qiskit import IBMQ\n",
        "import main, config, helpers, naive, trotter"
      ],
      "metadata": {
        "id": "qllEgc9jAJ7Z"
      },
      "execution_count": 12,
      "outputs": []
    },
    {
      "cell_type": "code",
      "source": [
        "import json"
      ],
      "metadata": {
        "id": "c-GxrfYouM9G"
      },
      "execution_count": 13,
      "outputs": []
    },
    {
      "cell_type": "code",
      "source": [
        "def fix_and_save(prob_vals, r):\n",
        "    fixed = {}\n",
        "    for x in prob_vals:\n",
        "        temp = []\n",
        "        for y in prob_vals[x]:\n",
        "            temp.append(y.tolist())\n",
        "        fixed[x] = temp\n",
        "\n",
        "    with open(f\"quantum_r={r}_q5.json\", \"w\") as json_file:\n",
        "        json.dump(fixed, json_file)"
      ],
      "metadata": {
        "id": "1PwwqLyYtNZl"
      },
      "execution_count": 14,
      "outputs": []
    },
    {
      "cell_type": "code",
      "source": [
        "def run_and_save(qubits, r):\n",
        "    prob_vals = main.compare_on_quantum_computer([qubits], r=r, run_quantum=True)\n",
        "    fix_and_save(prob_vals, r)"
      ],
      "metadata": {
        "id": "7DxVGaLYtdxI"
      },
      "execution_count": 15,
      "outputs": []
    },
    {
      "cell_type": "markdown",
      "source": [
        "# Running it for different r values"
      ],
      "metadata": {
        "id": "2NGrmUKqmf_E"
      }
    },
    {
      "cell_type": "code",
      "source": [
        "r_vals = [1, 10, 10, 100, 1000]"
      ],
      "metadata": {
        "id": "IIJqHmrMu9cb"
      },
      "execution_count": 20,
      "outputs": []
    },
    {
      "cell_type": "code",
      "source": [
        "for r in r_vals:\n",
        "    run_and_save(5, r)"
      ],
      "metadata": {
        "colab": {
          "base_uri": "https://localhost:8080/"
        },
        "id": "FkiVC641GLc4",
        "outputId": "f104aff5-ae03-40ff-cbd5-1a97696a40b3"
      },
      "execution_count": 16,
      "outputs": [
        {
          "output_type": "stream",
          "name": "stderr",
          "text": [
            "configrc.store_credentials:WARNING:2022-02-25 21:11:52,787: Credentials already present. Set overwrite=True to overwrite.\n"
          ]
        },
        {
          "output_type": "stream",
          "name": "stdout",
          "text": [
            "running on r=1\n",
            "Queried for auth\n"
          ]
        },
        {
          "output_type": "stream",
          "name": "stderr",
          "text": [
            "ibmqfactory.load_account:WARNING:2022-02-25 21:11:53,155: Credentials are already in use. The existing account in the session will be replaced.\n"
          ]
        },
        {
          "output_type": "stream",
          "name": "stdout",
          "text": [
            "Auth complete\n",
            "running for 5 on quantum computer\n",
            "running circuit\n"
          ]
        },
        {
          "output_type": "stream",
          "name": "stderr",
          "text": [
            "configrc.store_credentials:WARNING:2022-02-25 21:12:11,170: Credentials already present. Set overwrite=True to overwrite.\n",
            "ibmqfactory.load_account:WARNING:2022-02-25 21:12:11,362: Credentials are already in use. The existing account in the session will be replaced.\n"
          ]
        },
        {
          "output_type": "stream",
          "name": "stdout",
          "text": [
            "classical measurements:{'00111': 8, '01111': 11, '00110': 44, '01010': 14, '10001': 41, '11010': 36, '11001': 53, '00100': 57, '00101': 51, '01001': 6, '10101': 63, '10000': 53, '00010': 34, '10100': 36, '11100': 40, '01011': 1, '00000': 88, '11011': 52, '01000': 26, '10110': 10, '11111': 25, '10010': 57, '01110': 41, '11000': 35, '10111': 26, '01100': 20, '01101': 29, '00001': 67}\n",
            "running on r=10\n",
            "Queried for auth\n",
            "Auth complete\n",
            "running for 5 on quantum computer\n",
            "running circuit\n"
          ]
        },
        {
          "output_type": "stream",
          "name": "stderr",
          "text": [
            "configrc.store_credentials:WARNING:2022-02-25 21:12:31,094: Credentials already present. Set overwrite=True to overwrite.\n"
          ]
        },
        {
          "output_type": "stream",
          "name": "stdout",
          "text": [
            "classical measurements:{'01100': 7, '00010': 6, '11001': 2, '01101': 3, '00001': 8, '11010': 19, '11011': 8, '10000': 39, '01011': 6, '11100': 9, '11110': 27, '01110': 13, '00111': 63, '10001': 23, '01010': 55, '00011': 23, '00100': 61, '00110': 110, '10011': 96, '10111': 19, '11000': 53, '01000': 33, '10010': 74, '10110': 29, '11111': 52, '01001': 2, '00101': 50, '10100': 57, '11101': 77}\n",
            "running on r=50\n",
            "Queried for auth\n"
          ]
        },
        {
          "output_type": "stream",
          "name": "stderr",
          "text": [
            "ibmqfactory.load_account:WARNING:2022-02-25 21:12:31,305: Credentials are already in use. The existing account in the session will be replaced.\n"
          ]
        },
        {
          "output_type": "stream",
          "name": "stdout",
          "text": [
            "Auth complete\n",
            "running for 5 on quantum computer\n",
            "running circuit\n"
          ]
        },
        {
          "output_type": "stream",
          "name": "stderr",
          "text": [
            "configrc.store_credentials:WARNING:2022-02-25 21:13:11,694: Credentials already present. Set overwrite=True to overwrite.\n"
          ]
        },
        {
          "output_type": "stream",
          "name": "stdout",
          "text": [
            "classical measurements:{'00110': 1, '00001': 2, '01101': 1, '00111': 10, '01111': 5, '01000': 33, '10011': 30, '10101': 42, '11110': 25, '11100': 59, '11001': 59, '00011': 2, '00100': 74, '01100': 33, '11101': 7, '10100': 107, '00010': 22, '00101': 73, '01001': 64, '01010': 44, '10001': 12, '11010': 58, '11011': 59, '10111': 26, '10110': 45, '10010': 49, '11111': 69, '00000': 5, '01011': 8}\n",
            "running on r=100\n",
            "Queried for auth\n"
          ]
        },
        {
          "output_type": "stream",
          "name": "stderr",
          "text": [
            "ibmqfactory.load_account:WARNING:2022-02-25 21:13:12,108: Credentials are already in use. The existing account in the session will be replaced.\n"
          ]
        },
        {
          "output_type": "stream",
          "name": "stdout",
          "text": [
            "Auth complete\n",
            "running for 5 on quantum computer\n",
            "running circuit\n"
          ]
        },
        {
          "output_type": "stream",
          "name": "stderr",
          "text": [
            "configrc.store_credentials:WARNING:2022-02-25 21:13:31,188: Credentials already present. Set overwrite=True to overwrite.\n"
          ]
        },
        {
          "output_type": "stream",
          "name": "stdout",
          "text": [
            "classical measurements:{'01100': 3, '11011': 1, '00010': 28, '10011': 31, '01110': 29, '10000': 3, '10101': 7, '01011': 3, '00000': 74, '01111': 68, '00101': 3, '01001': 96, '11100': 28, '11110': 89, '10010': 45, '10110': 61, '11111': 1, '11001': 49, '01010': 36, '10001': 10, '10111': 1, '11000': 66, '00100': 24, '00011': 16, '00111': 34, '11010': 21, '00110': 14, '01000': 92, '10100': 3, '11101': 38, '01101': 4, '00001': 46}\n",
            "running on r=1000\n",
            "Queried for auth\n"
          ]
        },
        {
          "output_type": "stream",
          "name": "stderr",
          "text": [
            "ibmqfactory.load_account:WARNING:2022-02-25 21:13:31,689: Credentials are already in use. The existing account in the session will be replaced.\n"
          ]
        },
        {
          "output_type": "stream",
          "name": "stdout",
          "text": [
            "Auth complete\n",
            "running for 5 on quantum computer\n",
            "running circuit\n",
            "classical measurements:{'10011': 6, '00010': 5, '10101': 4, '10000': 52, '00111': 36, '01111': 20, '10100': 19, '11101': 65, '01000': 8, '11010': 50, '11110': 66, '11100': 57, '00100': 24, '00011': 47, '01011': 1, '00000': 35, '01110': 39, '00110': 19, '00001': 3, '01101': 81, '11001': 68, '01100': 56, '00101': 40, '01001': 16, '11011': 28, '11111': 4, '10110': 36, '10010': 50, '10111': 14, '11000': 9, '10001': 34, '01010': 32}\n"
          ]
        }
      ]
    },
    {
      "cell_type": "code",
      "source": [
        "from matplotlib import pyplot as plt"
      ],
      "metadata": {
        "id": "XiJnVik6uoH9"
      },
      "execution_count": 17,
      "outputs": []
    },
    {
      "cell_type": "code",
      "source": [
        "def get_dict(r_val):\n",
        "    qr = None\n",
        "    with open(f'quantum_r={r_val}_q5.json') as f:\n",
        "        qr = json.load(f)\n",
        "    return qr"
      ],
      "metadata": {
        "id": "K345BuYVusXv"
      },
      "execution_count": 18,
      "outputs": []
    },
    {
      "cell_type": "code",
      "source": [
        "def get_errors(r_val):\n",
        "    probs = get_dict(r_val)\n",
        "    qq = np.array(probs[\"qq\"][0])\n",
        "    cc = np.array(probs[\"cc\"][0])\n",
        "    qc = np.array(probs[\"qc\"][0])\n",
        "    \n",
        "    trotter_error = helpers.error(qc, cc)\n",
        "    quantum_error = helpers.error(qq, qc)\n",
        "    quantum_trotter_error = helpers.error(qq, cc)\n",
        "    return (trotter_error, quantum_error, quantum_trotter_error)\n",
        "\n",
        "trotter_errors = []\n",
        "quantum_errors = []\n",
        "quantum_trotter_errors = []\n",
        "\n",
        "for r in r_vals:\n",
        "    i1, i2, i3 = get_errors(r)\n",
        "    trotter_errors.append(i1)\n",
        "    quantum_errors.append(i2)\n",
        "    quantum_trotter_errors.append(i3)\n",
        "\n",
        "# plt.plot(list(range(len(r_vals))), trotter_errors)\n",
        "# plt.plot(list(range(len(r_vals))), quantum_errors)\n",
        "plt.plot(list(range(len(r_vals))), quantum_trotter_errors, color=\"blue\")\n",
        "plt.xticks(list(range(len(r_vals))), r_vals)"
      ],
      "metadata": {
        "colab": {
          "base_uri": "https://localhost:8080/",
          "height": 438
        },
        "id": "JWtipPMHnDeN",
        "outputId": "190b5eb0-b1ba-44ce-d9f8-f848884fefee"
      },
      "execution_count": 24,
      "outputs": [
        {
          "output_type": "execute_result",
          "data": {
            "text/plain": [
              "([<matplotlib.axis.XTick at 0x7f3e097733d0>,\n",
              "  <matplotlib.axis.XTick at 0x7f3e075db950>,\n",
              "  <matplotlib.axis.XTick at 0x7f3e09870210>,\n",
              "  <matplotlib.axis.XTick at 0x7f3e09940e50>,\n",
              "  <matplotlib.axis.XTick at 0x7f3e09940490>],\n",
              " [Text(0, 0, '1'),\n",
              "  Text(0, 0, '10'),\n",
              "  Text(0, 0, '10'),\n",
              "  Text(0, 0, '100'),\n",
              "  Text(0, 0, '1000')])"
            ]
          },
          "metadata": {},
          "execution_count": 24
        },
        {
          "output_type": "display_data",
          "data": {
            "image/png": "[encoded data removed]",
            "text/plain": [
              "<Figure size 432x288 with 1 Axes>"
            ]
          },
          "metadata": {
            "needs_background": "light"
          }
        }
      ]
    },
    {
      "cell_type": "code",
      "source": [
        ""
      ],
      "metadata": {
        "id": "lXwIOM6Hvv6n"
      },
      "execution_count": null,
      "outputs": []
    }
  ]
}